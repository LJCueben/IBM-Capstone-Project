{
  "metadata": {
    "kernelspec": {
      "name": "python",
      "display_name": "Python (Pyodide)",
      "language": "python"
    },
    "language_info": {
      "codemirror_mode": {
        "name": "python",
        "version": 3
      },
      "file_extension": ".py",
      "mimetype": "text/x-python",
      "name": "python",
      "nbconvert_exporter": "python",
      "pygments_lexer": "ipython3",
      "version": "3.8"
    },
    "prev_pub_hash": "fee3cd0da99af27f7f7a8d9c340e8e78f253ffc32a2251cadcb6968f21d952d5"
  },
  "nbformat_minor": 4,
  "nbformat": 4,
  "cells": [
    {
      "cell_type": "markdown",
      "source": "<p style=\"text-align:center\">\n    <a href=\"https://skills.network/?utm_medium=Exinfluencer&utm_source=Exinfluencer&utm_content=000026UJ&utm_term=10006555&utm_id=NA-SkillsNetwork-Channel-SkillsNetworkCoursesIBMDA0321ENSkillsNetwork928-2022-01-01\" target=\"_blank\">\n    <img src=\"https://cf-courses-data.s3.us.cloud-object-storage.appdomain.cloud/assets/logos/SN_web_lightmode.png\" width=\"400\" alt=\"Skills Network Logo\"  />\n    </a>\n</p>\n",
      "metadata": {}
    },
    {
      "cell_type": "markdown",
      "source": "# **Data Wrangling Lab**\n",
      "metadata": {}
    },
    {
      "cell_type": "markdown",
      "source": "Estimated time needed: **45 to 60** minutes\n",
      "metadata": {}
    },
    {
      "cell_type": "markdown",
      "source": "In this assignment you will be performing data wrangling.\n",
      "metadata": {}
    },
    {
      "cell_type": "markdown",
      "source": "## Objectives\n",
      "metadata": {}
    },
    {
      "cell_type": "markdown",
      "source": "In this lab you will perform the following:\n",
      "metadata": {}
    },
    {
      "cell_type": "markdown",
      "source": "-   Identify duplicate values in the dataset.\n\n-   Remove duplicate values from the dataset.\n\n-   Identify missing values in the dataset.\n\n-   Impute the missing values in the dataset.\n\n-   Normalize data in the dataset.\n",
      "metadata": {}
    },
    {
      "cell_type": "markdown",
      "source": "<hr>\n",
      "metadata": {}
    },
    {
      "cell_type": "markdown",
      "source": "## Hands on Lab\n",
      "metadata": {}
    },
    {
      "cell_type": "markdown",
      "source": "Import pandas module.\n",
      "metadata": {}
    },
    {
      "cell_type": "code",
      "source": "import pandas as pd",
      "metadata": {
        "trusted": true
      },
      "outputs": [
        {
          "name": "stderr",
          "text": "<ipython-input-1-7dd3504c366f>:1: DeprecationWarning: \nPyarrow will become a required dependency of pandas in the next major release of pandas (pandas 3.0),\n(to allow more performant data types, such as the Arrow string type, and better interoperability with other libraries)\nbut was not found to be installed on your system.\nIf this would cause problems for you,\nplease provide us feedback at https://github.com/pandas-dev/pandas/issues/54466\n        \n  import pandas as pd\n",
          "output_type": "stream"
        }
      ],
      "execution_count": 1
    },
    {
      "cell_type": "markdown",
      "source": "Load the dataset into a dataframe.\n",
      "metadata": {}
    },
    {
      "cell_type": "markdown",
      "source": "<h2>Read Data</h2>\n<p>\nWe utilize the <code>pandas.read_csv()</code> function for reading CSV files. However, in this version of the lab, which operates on JupyterLite, the dataset needs to be downloaded to the interface using the provided code below.\n</p>\n",
      "metadata": {}
    },
    {
      "cell_type": "markdown",
      "source": "The functions below will download the dataset into your browser:\n",
      "metadata": {}
    },
    {
      "cell_type": "code",
      "source": "from pyodide.http import pyfetch\n\nasync def download(url, filename):\n    response = await pyfetch(url)\n    if response.status == 200:\n        with open(filename, \"wb\") as f:\n            f.write(await response.bytes())",
      "metadata": {
        "trusted": true
      },
      "outputs": [],
      "execution_count": 2
    },
    {
      "cell_type": "code",
      "source": "file_path = \"https://cf-courses-data.s3.us.cloud-object-storage.appdomain.cloud/IBM-DA0321EN-SkillsNetwork/LargeData/m1_survey_data.csv\"",
      "metadata": {
        "trusted": true
      },
      "outputs": [],
      "execution_count": 3
    },
    {
      "cell_type": "markdown",
      "source": "To obtain the dataset, utilize the download() function as defined above:  \n",
      "metadata": {}
    },
    {
      "cell_type": "code",
      "source": "await download(file_path, \"m1_survey_data.csv\")\nfile_name=\"m1_survey_data.csv\"",
      "metadata": {
        "trusted": true
      },
      "outputs": [],
      "execution_count": 4
    },
    {
      "cell_type": "markdown",
      "source": "Utilize the Pandas method read_csv() to load the data into a dataframe.\n",
      "metadata": {}
    },
    {
      "cell_type": "code",
      "source": "df = pd.read_csv(file_name)",
      "metadata": {
        "trusted": true
      },
      "outputs": [],
      "execution_count": 5
    },
    {
      "cell_type": "markdown",
      "source": "> Note: This version of the lab is working on JupyterLite, which requires the dataset to be downloaded to the interface.While working on the downloaded version of this notebook on their local machines(Jupyter Anaconda), the learners can simply **skip the steps above,** and simply use the URL directly in the `pandas.read_csv()` function. You can uncomment and run the statements in the cell below.\n",
      "metadata": {}
    },
    {
      "cell_type": "code",
      "source": "#df = pd.read_csv(\"https://cf-courses-data.s3.us.cloud-object-storage.appdomain.cloud/IBM-DA0321EN-SkillsNetwork/LargeData/m1_survey_data.csv\")",
      "metadata": {
        "trusted": true
      },
      "outputs": [],
      "execution_count": null
    },
    {
      "cell_type": "markdown",
      "source": "## Finding duplicates\n",
      "metadata": {}
    },
    {
      "cell_type": "markdown",
      "source": "In this section you will identify duplicate values in the dataset.\n",
      "metadata": {}
    },
    {
      "cell_type": "markdown",
      "source": " Find how many duplicate rows exist in the dataframe.\n",
      "metadata": {}
    },
    {
      "cell_type": "code",
      "source": "duplicates = df[df.duplicated()]\n\nduplicates",
      "metadata": {
        "trusted": true
      },
      "outputs": [
        {
          "execution_count": 6,
          "output_type": "execute_result",
          "data": {
            "text/plain": "      Respondent                                         MainBranch Hobbyist  \\\n1168        2339                     I am a developer by profession      Yes   \n1169        2342                     I am a developer by profession      Yes   \n1170        2343                     I am a developer by profession      Yes   \n1171        2344                     I am a developer by profession      Yes   \n1172        2347                     I am a developer by profession      Yes   \n...          ...                                                ...      ...   \n2297        4674  I am not primarily a developer, but I write co...      Yes   \n2298        4675                     I am a developer by profession      Yes   \n2299        4676                     I am a developer by profession      Yes   \n2300        4677                     I am a developer by profession      Yes   \n2301        4679                     I am a developer by profession      Yes   \n\n                                            OpenSourcer  \\\n1168                         Once a month or more often   \n1169                                              Never   \n1170  Less than once a month but more than once per ...   \n1171                                              Never   \n1172                                              Never   \n...                                                 ...   \n2297                            Less than once per year   \n2298                                              Never   \n2299                                              Never   \n2300                         Once a month or more often   \n2301  Less than once a month but more than once per ...   \n\n                                             OpenSource          Employment  \\\n1168  OSS is, on average, of HIGHER quality than pro...  Employed full-time   \n1169  The quality of OSS and closed source software ...  Employed full-time   \n1170  OSS is, on average, of LOWER quality than prop...  Employed full-time   \n1171  The quality of OSS and closed source software ...  Employed full-time   \n1172  OSS is, on average, of HIGHER quality than pro...  Employed full-time   \n...                                                 ...                 ...   \n2297  The quality of OSS and closed source software ...  Employed full-time   \n2298  OSS is, on average, of HIGHER quality than pro...  Employed full-time   \n2299  OSS is, on average, of HIGHER quality than pro...  Employed full-time   \n2300  OSS is, on average, of HIGHER quality than pro...  Employed full-time   \n2301  The quality of OSS and closed source software ...  Employed full-time   \n\n             Country Student  \\\n1168   United States      No   \n1169  United Kingdom      No   \n1170          Canada      No   \n1171   United States      No   \n1172  United Kingdom      No   \n...              ...     ...   \n2297      Bangladesh      No   \n2298   United States      No   \n2299         Finland      No   \n2300  United Kingdom      No   \n2301   United States      No   \n\n                                                EdLevel  \\\n1168  Some college/university study without earning ...   \n1169  Some college/university study without earning ...   \n1170        Master’s degree (MA, MS, M.Eng., MBA, etc.)   \n1171           Bachelor’s degree (BA, BS, B.Eng., etc.)   \n1172        Master’s degree (MA, MS, M.Eng., MBA, etc.)   \n...                                                 ...   \n2297           Bachelor’s degree (BA, BS, B.Eng., etc.)   \n2298           Bachelor’s degree (BA, BS, B.Eng., etc.)   \n2299        Master’s degree (MA, MS, M.Eng., MBA, etc.)   \n2300           Bachelor’s degree (BA, BS, B.Eng., etc.)   \n2301        Master’s degree (MA, MS, M.Eng., MBA, etc.)   \n\n                                         UndergradMajor  ...  \\\n1168  Computer science, computer engineering, or sof...  ...   \n1169  Information systems, information technology, o...  ...   \n1170  Computer science, computer engineering, or sof...  ...   \n1171  Computer science, computer engineering, or sof...  ...   \n1172  Computer science, computer engineering, or sof...  ...   \n...                                                 ...  ...   \n2297                                                NaN  ...   \n2298  Information systems, information technology, o...  ...   \n2299  Another engineering discipline (ex. civil, ele...  ...   \n2300  A natural science (ex. biology, chemistry, phy...  ...   \n2301  Computer science, computer engineering, or sof...  ...   \n\n                                 WelcomeChange  \\\n1168   Just as welcome now as I felt last year   \n1169  Somewhat more welcome now than last year   \n1170  Somewhat more welcome now than last year   \n1171   Just as welcome now as I felt last year   \n1172   Just as welcome now as I felt last year   \n...                                        ...   \n2297  Somewhat less welcome now than last year   \n2298   Just as welcome now as I felt last year   \n2299  Somewhat less welcome now than last year   \n2300   Just as welcome now as I felt last year   \n2301   Just as welcome now as I felt last year   \n\n                                           SONewContent   Age Gender Trans  \\\n1168                                                NaN  24.0    Man    No   \n1169  Tech meetups or events in your area;Courses on...  24.0    Man    No   \n1170  Tech articles written by other developers;Indu...  27.0    Man    No   \n1171  Tech articles written by other developers;Indu...  24.0    Man    No   \n1172                                                NaN   NaN  Woman    No   \n...                                                 ...   ...    ...   ...   \n2297  Tech articles written by other developers;Indu...  31.0    Man    No   \n2298                Tech meetups or events in your area  27.0    Man    No   \n2299                                                NaN  36.0    Man    No   \n2300                                                NaN  40.0    Man    No   \n2301                                                NaN  27.0    Man    No   \n\n                                            Sexuality  \\\n1168                          Straight / Heterosexual   \n1169                          Straight / Heterosexual   \n1170                          Straight / Heterosexual   \n1171                          Straight / Heterosexual   \n1172                          Straight / Heterosexual   \n...                                               ...   \n2297  Bisexual;Gay or Lesbian;Straight / Heterosexual   \n2298                          Straight / Heterosexual   \n2299                          Straight / Heterosexual   \n2300                          Straight / Heterosexual   \n2301                                              NaN   \n\n                                              Ethnicity Dependents  \\\n1168                       White or of European descent         No   \n1169                       White or of European descent         No   \n1170  Black or of African descent;White or of Europe...         No   \n1171                       White or of European descent         No   \n1172                                           Biracial         No   \n...                                                 ...        ...   \n2297  Black or of African descent;Hispanic or Latino...        Yes   \n2298                       White or of European descent         No   \n2299                       White or of European descent        Yes   \n2300                       White or of European descent        Yes   \n2301                       White or of European descent         No   \n\n               SurveyLength                  SurveyEase  \n1168  Appropriate in length                        Easy  \n1169               Too long                        Easy  \n1170  Appropriate in length  Neither easy nor difficult  \n1171  Appropriate in length                        Easy  \n1172               Too long                        Easy  \n...                     ...                         ...  \n2297               Too long  Neither easy nor difficult  \n2298  Appropriate in length                        Easy  \n2299               Too long                        Easy  \n2300  Appropriate in length                        Easy  \n2301  Appropriate in length                        Easy  \n\n[154 rows x 85 columns]",
            "text/html": "<div>\n<style scoped>\n    .dataframe tbody tr th:only-of-type {\n        vertical-align: middle;\n    }\n\n    .dataframe tbody tr th {\n        vertical-align: top;\n    }\n\n    .dataframe thead th {\n        text-align: right;\n    }\n</style>\n<table border=\"1\" class=\"dataframe\">\n  <thead>\n    <tr style=\"text-align: right;\">\n      <th></th>\n      <th>Respondent</th>\n      <th>MainBranch</th>\n      <th>Hobbyist</th>\n      <th>OpenSourcer</th>\n      <th>OpenSource</th>\n      <th>Employment</th>\n      <th>Country</th>\n      <th>Student</th>\n      <th>EdLevel</th>\n      <th>UndergradMajor</th>\n      <th>...</th>\n      <th>WelcomeChange</th>\n      <th>SONewContent</th>\n      <th>Age</th>\n      <th>Gender</th>\n      <th>Trans</th>\n      <th>Sexuality</th>\n      <th>Ethnicity</th>\n      <th>Dependents</th>\n      <th>SurveyLength</th>\n      <th>SurveyEase</th>\n    </tr>\n  </thead>\n  <tbody>\n    <tr>\n      <th>1168</th>\n      <td>2339</td>\n      <td>I am a developer by profession</td>\n      <td>Yes</td>\n      <td>Once a month or more often</td>\n      <td>OSS is, on average, of HIGHER quality than pro...</td>\n      <td>Employed full-time</td>\n      <td>United States</td>\n      <td>No</td>\n      <td>Some college/university study without earning ...</td>\n      <td>Computer science, computer engineering, or sof...</td>\n      <td>...</td>\n      <td>Just as welcome now as I felt last year</td>\n      <td>NaN</td>\n      <td>24.0</td>\n      <td>Man</td>\n      <td>No</td>\n      <td>Straight / Heterosexual</td>\n      <td>White or of European descent</td>\n      <td>No</td>\n      <td>Appropriate in length</td>\n      <td>Easy</td>\n    </tr>\n    <tr>\n      <th>1169</th>\n      <td>2342</td>\n      <td>I am a developer by profession</td>\n      <td>Yes</td>\n      <td>Never</td>\n      <td>The quality of OSS and closed source software ...</td>\n      <td>Employed full-time</td>\n      <td>United Kingdom</td>\n      <td>No</td>\n      <td>Some college/university study without earning ...</td>\n      <td>Information systems, information technology, o...</td>\n      <td>...</td>\n      <td>Somewhat more welcome now than last year</td>\n      <td>Tech meetups or events in your area;Courses on...</td>\n      <td>24.0</td>\n      <td>Man</td>\n      <td>No</td>\n      <td>Straight / Heterosexual</td>\n      <td>White or of European descent</td>\n      <td>No</td>\n      <td>Too long</td>\n      <td>Easy</td>\n    </tr>\n    <tr>\n      <th>1170</th>\n      <td>2343</td>\n      <td>I am a developer by profession</td>\n      <td>Yes</td>\n      <td>Less than once a month but more than once per ...</td>\n      <td>OSS is, on average, of LOWER quality than prop...</td>\n      <td>Employed full-time</td>\n      <td>Canada</td>\n      <td>No</td>\n      <td>Master’s degree (MA, MS, M.Eng., MBA, etc.)</td>\n      <td>Computer science, computer engineering, or sof...</td>\n      <td>...</td>\n      <td>Somewhat more welcome now than last year</td>\n      <td>Tech articles written by other developers;Indu...</td>\n      <td>27.0</td>\n      <td>Man</td>\n      <td>No</td>\n      <td>Straight / Heterosexual</td>\n      <td>Black or of African descent;White or of Europe...</td>\n      <td>No</td>\n      <td>Appropriate in length</td>\n      <td>Neither easy nor difficult</td>\n    </tr>\n    <tr>\n      <th>1171</th>\n      <td>2344</td>\n      <td>I am a developer by profession</td>\n      <td>Yes</td>\n      <td>Never</td>\n      <td>The quality of OSS and closed source software ...</td>\n      <td>Employed full-time</td>\n      <td>United States</td>\n      <td>No</td>\n      <td>Bachelor’s degree (BA, BS, B.Eng., etc.)</td>\n      <td>Computer science, computer engineering, or sof...</td>\n      <td>...</td>\n      <td>Just as welcome now as I felt last year</td>\n      <td>Tech articles written by other developers;Indu...</td>\n      <td>24.0</td>\n      <td>Man</td>\n      <td>No</td>\n      <td>Straight / Heterosexual</td>\n      <td>White or of European descent</td>\n      <td>No</td>\n      <td>Appropriate in length</td>\n      <td>Easy</td>\n    </tr>\n    <tr>\n      <th>1172</th>\n      <td>2347</td>\n      <td>I am a developer by profession</td>\n      <td>Yes</td>\n      <td>Never</td>\n      <td>OSS is, on average, of HIGHER quality than pro...</td>\n      <td>Employed full-time</td>\n      <td>United Kingdom</td>\n      <td>No</td>\n      <td>Master’s degree (MA, MS, M.Eng., MBA, etc.)</td>\n      <td>Computer science, computer engineering, or sof...</td>\n      <td>...</td>\n      <td>Just as welcome now as I felt last year</td>\n      <td>NaN</td>\n      <td>NaN</td>\n      <td>Woman</td>\n      <td>No</td>\n      <td>Straight / Heterosexual</td>\n      <td>Biracial</td>\n      <td>No</td>\n      <td>Too long</td>\n      <td>Easy</td>\n    </tr>\n    <tr>\n      <th>...</th>\n      <td>...</td>\n      <td>...</td>\n      <td>...</td>\n      <td>...</td>\n      <td>...</td>\n      <td>...</td>\n      <td>...</td>\n      <td>...</td>\n      <td>...</td>\n      <td>...</td>\n      <td>...</td>\n      <td>...</td>\n      <td>...</td>\n      <td>...</td>\n      <td>...</td>\n      <td>...</td>\n      <td>...</td>\n      <td>...</td>\n      <td>...</td>\n      <td>...</td>\n      <td>...</td>\n    </tr>\n    <tr>\n      <th>2297</th>\n      <td>4674</td>\n      <td>I am not primarily a developer, but I write co...</td>\n      <td>Yes</td>\n      <td>Less than once per year</td>\n      <td>The quality of OSS and closed source software ...</td>\n      <td>Employed full-time</td>\n      <td>Bangladesh</td>\n      <td>No</td>\n      <td>Bachelor’s degree (BA, BS, B.Eng., etc.)</td>\n      <td>NaN</td>\n      <td>...</td>\n      <td>Somewhat less welcome now than last year</td>\n      <td>Tech articles written by other developers;Indu...</td>\n      <td>31.0</td>\n      <td>Man</td>\n      <td>No</td>\n      <td>Bisexual;Gay or Lesbian;Straight / Heterosexual</td>\n      <td>Black or of African descent;Hispanic or Latino...</td>\n      <td>Yes</td>\n      <td>Too long</td>\n      <td>Neither easy nor difficult</td>\n    </tr>\n    <tr>\n      <th>2298</th>\n      <td>4675</td>\n      <td>I am a developer by profession</td>\n      <td>Yes</td>\n      <td>Never</td>\n      <td>OSS is, on average, of HIGHER quality than pro...</td>\n      <td>Employed full-time</td>\n      <td>United States</td>\n      <td>No</td>\n      <td>Bachelor’s degree (BA, BS, B.Eng., etc.)</td>\n      <td>Information systems, information technology, o...</td>\n      <td>...</td>\n      <td>Just as welcome now as I felt last year</td>\n      <td>Tech meetups or events in your area</td>\n      <td>27.0</td>\n      <td>Man</td>\n      <td>No</td>\n      <td>Straight / Heterosexual</td>\n      <td>White or of European descent</td>\n      <td>No</td>\n      <td>Appropriate in length</td>\n      <td>Easy</td>\n    </tr>\n    <tr>\n      <th>2299</th>\n      <td>4676</td>\n      <td>I am a developer by profession</td>\n      <td>Yes</td>\n      <td>Never</td>\n      <td>OSS is, on average, of HIGHER quality than pro...</td>\n      <td>Employed full-time</td>\n      <td>Finland</td>\n      <td>No</td>\n      <td>Master’s degree (MA, MS, M.Eng., MBA, etc.)</td>\n      <td>Another engineering discipline (ex. civil, ele...</td>\n      <td>...</td>\n      <td>Somewhat less welcome now than last year</td>\n      <td>NaN</td>\n      <td>36.0</td>\n      <td>Man</td>\n      <td>No</td>\n      <td>Straight / Heterosexual</td>\n      <td>White or of European descent</td>\n      <td>Yes</td>\n      <td>Too long</td>\n      <td>Easy</td>\n    </tr>\n    <tr>\n      <th>2300</th>\n      <td>4677</td>\n      <td>I am a developer by profession</td>\n      <td>Yes</td>\n      <td>Once a month or more often</td>\n      <td>OSS is, on average, of HIGHER quality than pro...</td>\n      <td>Employed full-time</td>\n      <td>United Kingdom</td>\n      <td>No</td>\n      <td>Bachelor’s degree (BA, BS, B.Eng., etc.)</td>\n      <td>A natural science (ex. biology, chemistry, phy...</td>\n      <td>...</td>\n      <td>Just as welcome now as I felt last year</td>\n      <td>NaN</td>\n      <td>40.0</td>\n      <td>Man</td>\n      <td>No</td>\n      <td>Straight / Heterosexual</td>\n      <td>White or of European descent</td>\n      <td>Yes</td>\n      <td>Appropriate in length</td>\n      <td>Easy</td>\n    </tr>\n    <tr>\n      <th>2301</th>\n      <td>4679</td>\n      <td>I am a developer by profession</td>\n      <td>Yes</td>\n      <td>Less than once a month but more than once per ...</td>\n      <td>The quality of OSS and closed source software ...</td>\n      <td>Employed full-time</td>\n      <td>United States</td>\n      <td>No</td>\n      <td>Master’s degree (MA, MS, M.Eng., MBA, etc.)</td>\n      <td>Computer science, computer engineering, or sof...</td>\n      <td>...</td>\n      <td>Just as welcome now as I felt last year</td>\n      <td>NaN</td>\n      <td>27.0</td>\n      <td>Man</td>\n      <td>No</td>\n      <td>NaN</td>\n      <td>White or of European descent</td>\n      <td>No</td>\n      <td>Appropriate in length</td>\n      <td>Easy</td>\n    </tr>\n  </tbody>\n</table>\n<p>154 rows × 85 columns</p>\n</div>"
          },
          "metadata": {}
        }
      ],
      "execution_count": 6
    },
    {
      "cell_type": "markdown",
      "source": "## Removing duplicates\n",
      "metadata": {}
    },
    {
      "cell_type": "markdown",
      "source": "Remove the duplicate rows from the dataframe.\n",
      "metadata": {}
    },
    {
      "cell_type": "code",
      "source": "df = df.drop_duplicates()",
      "metadata": {
        "trusted": true
      },
      "outputs": [],
      "execution_count": 7
    },
    {
      "cell_type": "markdown",
      "source": "Verify if duplicates were actually dropped.\n",
      "metadata": {}
    },
    {
      "cell_type": "code",
      "source": "duplicates = df[df.duplicated()]\n\nduplicates",
      "metadata": {
        "trusted": true
      },
      "outputs": [
        {
          "execution_count": 8,
          "output_type": "execute_result",
          "data": {
            "text/plain": "Empty DataFrame\nColumns: [Respondent, MainBranch, Hobbyist, OpenSourcer, OpenSource, Employment, Country, Student, EdLevel, UndergradMajor, EduOther, OrgSize, DevType, YearsCode, Age1stCode, YearsCodePro, CareerSat, JobSat, MgrIdiot, MgrMoney, MgrWant, JobSeek, LastHireDate, LastInt, FizzBuzz, JobFactors, ResumeUpdate, CurrencySymbol, CurrencyDesc, CompTotal, CompFreq, ConvertedComp, WorkWeekHrs, WorkPlan, WorkChallenge, WorkRemote, WorkLoc, ImpSyn, CodeRev, CodeRevHrs, UnitTests, PurchaseHow, PurchaseWhat, LanguageWorkedWith, LanguageDesireNextYear, DatabaseWorkedWith, DatabaseDesireNextYear, PlatformWorkedWith, PlatformDesireNextYear, WebFrameWorkedWith, WebFrameDesireNextYear, MiscTechWorkedWith, MiscTechDesireNextYear, DevEnviron, OpSys, Containers, BlockchainOrg, BlockchainIs, BetterLife, ITperson, OffOn, SocialMedia, Extraversion, ScreenName, SOVisit1st, SOVisitFreq, SOVisitTo, SOFindAnswer, SOTimeSaved, SOHowMuchTime, SOAccount, SOPartFreq, SOJobs, EntTeams, SOComm, WelcomeChange, SONewContent, Age, Gender, Trans, Sexuality, Ethnicity, Dependents, SurveyLength, SurveyEase]\nIndex: []\n\n[0 rows x 85 columns]",
            "text/html": "<div>\n<style scoped>\n    .dataframe tbody tr th:only-of-type {\n        vertical-align: middle;\n    }\n\n    .dataframe tbody tr th {\n        vertical-align: top;\n    }\n\n    .dataframe thead th {\n        text-align: right;\n    }\n</style>\n<table border=\"1\" class=\"dataframe\">\n  <thead>\n    <tr style=\"text-align: right;\">\n      <th></th>\n      <th>Respondent</th>\n      <th>MainBranch</th>\n      <th>Hobbyist</th>\n      <th>OpenSourcer</th>\n      <th>OpenSource</th>\n      <th>Employment</th>\n      <th>Country</th>\n      <th>Student</th>\n      <th>EdLevel</th>\n      <th>UndergradMajor</th>\n      <th>...</th>\n      <th>WelcomeChange</th>\n      <th>SONewContent</th>\n      <th>Age</th>\n      <th>Gender</th>\n      <th>Trans</th>\n      <th>Sexuality</th>\n      <th>Ethnicity</th>\n      <th>Dependents</th>\n      <th>SurveyLength</th>\n      <th>SurveyEase</th>\n    </tr>\n  </thead>\n  <tbody>\n  </tbody>\n</table>\n<p>0 rows × 85 columns</p>\n</div>"
          },
          "metadata": {}
        }
      ],
      "execution_count": 8
    },
    {
      "cell_type": "markdown",
      "source": "## Finding Missing values\n",
      "metadata": {}
    },
    {
      "cell_type": "markdown",
      "source": "Find the missing values for all columns.\n",
      "metadata": {}
    },
    {
      "cell_type": "code",
      "source": "missing_values = df.isnull().sum()\n\npd.set_option('display.max_rows', None)\n\nprint(missing_values)\n\npd.reset_option('display.max_rows')",
      "metadata": {
        "trusted": true
      },
      "outputs": [
        {
          "name": "stdout",
          "text": "Respondent                   0\nMainBranch                   0\nHobbyist                     0\nOpenSourcer                  0\nOpenSource                  81\nEmployment                   0\nCountry                      0\nStudent                     51\nEdLevel                    112\nUndergradMajor             737\nEduOther                   164\nOrgSize                     96\nDevType                     65\nYearsCode                    9\nAge1stCode                  13\nYearsCodePro                16\nCareerSat                    0\nJobSat                       1\nMgrIdiot                   493\nMgrMoney                   497\nMgrWant                    493\nJobSeek                      0\nLastHireDate                 0\nLastInt                    413\nFizzBuzz                    37\nJobFactors                   3\nResumeUpdate                39\nCurrencySymbol               0\nCurrencyDesc                 0\nCompTotal                  809\nCompFreq                   206\nConvertedComp              816\nWorkWeekHrs                122\nWorkPlan                   121\nWorkChallenge              164\nWorkRemote                   8\nWorkLoc                     32\nImpSyn                       5\nCodeRev                      1\nCodeRevHrs                2426\nUnitTests                   29\nPurchaseHow                196\nPurchaseWhat                38\nLanguageWorkedWith          11\nLanguageDesireNextYear     134\nDatabaseWorkedWith         453\nDatabaseDesireNextYear    1042\nPlatformWorkedWith         411\nPlatformDesireNextYear     544\nWebFrameWorkedWith        1393\nWebFrameDesireNextYear    1617\nMiscTechWorkedWith        2182\nMiscTechDesireNextYear    1455\nDevEnviron                  29\nOpSys                       34\nContainers                  82\nBlockchainOrg             2322\nBlockchainIs              2610\nBetterLife                  98\nITperson                    35\nOffOn                       38\nSocialMedia                293\nExtraversion                20\nScreenName                 507\nSOVisit1st                 325\nSOVisitFreq                  5\nSOVisitTo                    1\nSOFindAnswer                 3\nSOTimeSaved                 50\nSOHowMuchTime             1917\nSOAccount                    1\nSOPartFreq                1128\nSOJobs                       6\nEntTeams                     5\nSOComm                       0\nWelcomeChange               85\nSONewContent              1965\nAge                        287\nGender                      73\nTrans                      123\nSexuality                  542\nEthnicity                  675\nDependents                 140\nSurveyLength                19\nSurveyEase                  14\ndtype: int64\n",
          "output_type": "stream"
        }
      ],
      "execution_count": 9
    },
    {
      "cell_type": "markdown",
      "source": "Find out how many rows are missing in the column 'WorkLoc'\n",
      "metadata": {}
    },
    {
      "cell_type": "code",
      "source": "missing_workloc = df['WorkLoc'].isnull().sum()\nprint(missing_workloc)",
      "metadata": {
        "trusted": true
      },
      "outputs": [
        {
          "name": "stdout",
          "text": "32\n",
          "output_type": "stream"
        }
      ],
      "execution_count": 10
    },
    {
      "cell_type": "markdown",
      "source": "## Imputing missing values\n",
      "metadata": {}
    },
    {
      "cell_type": "markdown",
      "source": "Find the  value counts for the column WorkLoc.\n",
      "metadata": {}
    },
    {
      "cell_type": "code",
      "source": "# your code goes here\nworkloc_count = df['WorkLoc'].value_counts()\n\nprint(workloc_count)",
      "metadata": {
        "trusted": true
      },
      "outputs": [
        {
          "name": "stdout",
          "text": "WorkLoc\nOffice                                            6806\nHome                                              3589\nOther place, such as a coworking space or cafe     971\nName: count, dtype: int64\n",
          "output_type": "stream"
        }
      ],
      "execution_count": 11
    },
    {
      "cell_type": "markdown",
      "source": "Identify the value that is most frequent (majority) in the WorkLoc column.\n",
      "metadata": {}
    },
    {
      "cell_type": "code",
      "source": "#make a note of the majority value here, for future reference\n#6806",
      "metadata": {
        "trusted": true
      },
      "outputs": [],
      "execution_count": 12
    },
    {
      "cell_type": "markdown",
      "source": "Impute (replace) all the empty rows in the column WorkLoc with the value that you have identified as majority.\n",
      "metadata": {}
    },
    {
      "cell_type": "code",
      "source": "df.loc[df['WorkLoc'].isnull(), 'WorkLoc'] = 'Office'",
      "metadata": {
        "trusted": true
      },
      "outputs": [],
      "execution_count": 13
    },
    {
      "cell_type": "markdown",
      "source": "After imputation there should ideally not be any empty rows in the WorkLoc column.\n",
      "metadata": {}
    },
    {
      "cell_type": "markdown",
      "source": "Verify if imputing was successful.\n",
      "metadata": {}
    },
    {
      "cell_type": "code",
      "source": "# your code goes here\nmissing_workloc = df['WorkLoc'].isnull().sum()\nprint(missing_workloc)",
      "metadata": {
        "trusted": true
      },
      "outputs": [
        {
          "name": "stdout",
          "text": "0\n",
          "output_type": "stream"
        }
      ],
      "execution_count": 14
    },
    {
      "cell_type": "code",
      "source": "workloc_count = df['WorkLoc'].value_counts()\n\nprint(workloc_count)",
      "metadata": {
        "trusted": true
      },
      "outputs": [
        {
          "name": "stdout",
          "text": "WorkLoc\nOffice                                            6838\nHome                                              3589\nOther place, such as a coworking space or cafe     971\nName: count, dtype: int64\n",
          "output_type": "stream"
        }
      ],
      "execution_count": 15
    },
    {
      "cell_type": "markdown",
      "source": "## Normalizing data\n",
      "metadata": {}
    },
    {
      "cell_type": "markdown",
      "source": "There are two columns in the dataset that talk about compensation.\n\nOne is \"CompFreq\". This column shows how often a developer is paid (Yearly, Monthly, Weekly).\n\nThe other is \"CompTotal\". This column talks about how much the developer is paid per Year, Month, or Week depending upon his/her \"CompFreq\". \n\nThis makes it difficult to compare the total compensation of the developers.\n\nIn this section you will create a new column called 'NormalizedAnnualCompensation' which contains the 'Annual Compensation' irrespective of the 'CompFreq'.\n\nOnce this column is ready, it makes comparison of salaries easy.\n",
      "metadata": {}
    },
    {
      "cell_type": "markdown",
      "source": "<hr>\n",
      "metadata": {}
    },
    {
      "cell_type": "markdown",
      "source": "List out the various categories in the column 'CompFreq'\n",
      "metadata": {}
    },
    {
      "cell_type": "code",
      "source": "df['CompFreq'].value_counts()",
      "metadata": {
        "trusted": true
      },
      "outputs": [],
      "execution_count": null
    },
    {
      "cell_type": "markdown",
      "source": "Create a new column named 'NormalizedAnnualCompensation'. Use the hint given below if needed.\n",
      "metadata": {}
    },
    {
      "cell_type": "markdown",
      "source": "Double click to see the **Hint**.\n\n<!--\n\nUse the below logic to arrive at the values for the column NormalizedAnnualCompensation.\n\nIf the CompFreq is Yearly then use the exising value in CompTotal\nIf the CompFreq is Monthly then multiply the value in CompTotal with 12 (months in an year)\nIf the CompFreq is Weekly then multiply the value in CompTotal with 52 (weeks in an year)\n\n-->\n",
      "metadata": {}
    },
    {
      "cell_type": "code",
      "source": "df.loc[:, 'NormalizedAnnualCompensation'] = df['CompTotal'] * df['CompFreq'].map({\n    'Yearly': 1,\n    'Monthly': 12,\n    'Weekly': 52\n}).fillna(1)",
      "metadata": {
        "trusted": true
      },
      "outputs": [],
      "execution_count": null
    },
    {
      "cell_type": "code",
      "source": "df[['CompTotal','CompFreq','NormalizedAnnualCompensation']].head(10)",
      "metadata": {
        "trusted": true
      },
      "outputs": [],
      "execution_count": null
    },
    {
      "cell_type": "markdown",
      "source": "## Authors\n",
      "metadata": {}
    },
    {
      "cell_type": "markdown",
      "source": "Ramesh Sannareddy\n",
      "metadata": {}
    },
    {
      "cell_type": "markdown",
      "source": "### Other Contributors\n",
      "metadata": {}
    },
    {
      "cell_type": "markdown",
      "source": "Rav Ahuja\n",
      "metadata": {}
    },
    {
      "cell_type": "markdown",
      "source": " ## Change Log\n",
      "metadata": {}
    },
    {
      "cell_type": "markdown",
      "source": "|Date (YYYY-MM-DD)|Version|Changed By|Change Description|\n|-|-|-|-|\n|2024-09-24|1.1|Madhusudhan Moole|Updated lab|\n|2024-09-23|1.0|Raghul Ramesh|Created lab|\n",
      "metadata": {}
    },
    {
      "cell_type": "markdown",
      "source": "<!--| Date (YYYY-MM-DD) | Version | Changed By        | Change Description                 |\n| ----------------- | ------- | ----------------- | ---------------------------------- |\n| 2020-10-17        | 0.1     | Ramesh Sannareddy | Created initial version of the lab |--!>\n",
      "metadata": {}
    },
    {
      "cell_type": "markdown",
      "source": "## <h3 align=\"center\"> © IBM Corporation. All rights reserved. <h3/>\n",
      "metadata": {}
    },
    {
      "cell_type": "code",
      "source": "",
      "metadata": {
        "trusted": true
      },
      "outputs": [],
      "execution_count": null
    }
  ]
}